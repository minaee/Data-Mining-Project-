{
 "cells": [
  {
   "cell_type": "code",
   "execution_count": 77,
   "metadata": {},
   "outputs": [],
   "source": [
    "import pandas as pd\n",
    "import numpy as np \n",
    "from sklearn import preprocessing\n",
    "\n",
    "# train = pd.read_csv('pp5i_train.top30.gr.csv')\n",
    "\n",
    "# train.drop(labels=['Unnamed: 0'], axis=1, inplace=True)\n",
    "# print(train.shape )"
   ]
  },
  {
   "cell_type": "markdown",
   "metadata": {},
   "source": [
    "## Naive bayes\n"
   ]
  },
  {
   "cell_type": "code",
   "execution_count": 78,
   "metadata": {},
   "outputs": [
    {
     "name": "stdout",
     "output_type": "stream",
     "text": [
      "cross val for 2: [0.91304348 0.86956522 0.91304348]\n",
      "cross val for 4: [0.95652174 0.91304348 0.95652174]\n",
      "cross val for 6: [0.91304348 0.91304348 0.91304348]\n",
      "cross val for 8: [0.91304348 0.86956522 0.91304348]\n",
      "cross val for 10: [0.91304348 0.86956522 0.91304348]\n",
      "cross val for 12: [0.86956522 0.86956522 0.7826087 ]\n",
      "cross val for 15: [0.86956522 0.86956522 0.7826087 ]\n",
      "cross val for 20: [0.82608696 0.86956522 0.69565217]\n",
      "cross val for 25: [0.82608696 0.82608696 0.69565217]\n",
      "cross val for 30: [0.82608696 0.73913043 0.69565217]\n",
      "2 0.8695652173913043\n",
      "4 0.9130434782608695\n",
      "6 0.9130434782608695\n",
      "8 0.8695652173913043\n",
      "10 0.8695652173913043\n",
      "12 0.782608695652174\n",
      "15 0.782608695652174\n",
      "20 0.6956521739130435\n",
      "20\n"
     ]
    },
    {
     "data": {
      "text/plain": [
       "{20: 0.6956521739130435}"
      ]
     },
     "execution_count": 78,
     "metadata": {},
     "output_type": "execute_result"
    }
   ],
   "source": [
    "from sklearn.model_selection import train_test_split\n",
    "from sklearn.naive_bayes import GaussianNB\n",
    "from sklearn.model_selection import cross_val_score\n",
    "\n",
    "# X, y = train.iloc[:, :train.shape[1]-1], train[['class']]\n",
    "# X.to_numpy()\n",
    "# y = y.iloc[:, -1]\n",
    "# y.to_numpy()\n",
    "\n",
    "# X_train, X_test, y_train, y_test = train_test_split(X, y, test_size=0.25, random_state=0)\n",
    "# gnb = GaussianNB()\n",
    "# gnb.fit(X_train, y_train.values.ravel())\n",
    "\n",
    "# # y_pred = gnb.predict(X_test)\n",
    "# # print(gnb.score(X, y.values.ravel()))\n",
    "\n",
    "# crossval_score = cross_val_score(gnb, X_train, y_train.values.ravel(), cv=3)\n",
    "# print(crossval_score)\n",
    "\n",
    "mins = {}\n",
    "data = {}\n",
    "lowest_cross_validation_set_NB = {}\n",
    "\n",
    "N = [2, 4, 6, 8, 10, 12, 15, 20, 25, 30]\n",
    "for item in N:\n",
    "    data[item] = pd.DataFrame()\n",
    "    data[item] = pd.read_csv('pp5i_train.top{}.gr.csv'.format(item))\n",
    "    data[item].drop(labels=['Unnamed: 0'], axis=1, inplace=True)\n",
    "    X, y = data[item].iloc[:, :data[item].shape[1]-1], data[item][['class']]\n",
    "    X.to_numpy()\n",
    "    y = y.iloc[:, -1]\n",
    "    y.to_numpy()\n",
    "    \n",
    "    # X_train, X_test, y_train, y_test = train_test_split(X, y, test_size=0.25, random_state=0)\n",
    "\n",
    "    gnb = GaussianNB()\n",
    "    # gnb.fit(X_train, y_train.values.ravel())\n",
    "    # print(gnb.get_params)\n",
    "    \n",
    "    scaler = preprocessing.StandardScaler().fit(X)\n",
    "    X_scaled = scaler.transform(X)\n",
    "    \n",
    "    \n",
    "    crossval_score = cross_val_score(gnb, X_scaled, y.values.ravel(), cv=3)\n",
    "    mins[item] = np.min(crossval_score)\n",
    "    print(\"cross val for {}: {}\".format(item, crossval_score))\n",
    "    # print(\"min: {:.4f}\".format(mins[item]))\n",
    "for idx, val in mins.items():\n",
    "    print(idx, val)\n",
    "    if val == min(mins.values()):\n",
    "        print(idx)\n",
    "        lowest_cross_validation_set_NB[idx] = val\n",
    "        break\n",
    "        \n",
    "lowest_cross_validation_set_NB"
   ]
  },
  {
   "cell_type": "markdown",
   "metadata": {},
   "source": [
    "## Decision Tree (j48)"
   ]
  },
  {
   "cell_type": "code",
   "execution_count": 79,
   "metadata": {},
   "outputs": [
    {
     "name": "stdout",
     "output_type": "stream",
     "text": [
      "cross val for 2: [0.69565217 0.82608696 0.7826087 ]\n",
      "cross val for 4: [0.52173913 0.7826087  0.95652174]\n",
      "cross val for 6: [0.73913043 0.65217391 0.86956522]\n",
      "cross val for 8: [0.47826087 0.73913043 0.69565217]\n",
      "cross val for 10: [0.52173913 0.7826087  0.82608696]\n",
      "cross val for 12: [0.43478261 0.73913043 0.7826087 ]\n",
      "cross val for 15: [0.56521739 0.7826087  0.86956522]\n",
      "cross val for 20: [0.69565217 0.82608696 0.82608696]\n",
      "cross val for 25: [0.65217391 0.82608696 0.82608696]\n",
      "cross val for 30: [0.56521739 0.73913043 0.69565217]\n",
      "2 0.6956521739130435\n",
      "4 0.5217391304347826\n",
      "6 0.6521739130434783\n",
      "8 0.4782608695652174\n",
      "10 0.5217391304347826\n",
      "12 0.43478260869565216\n",
      "12\n"
     ]
    },
    {
     "data": {
      "text/plain": [
       "{12: 0.43478260869565216}"
      ]
     },
     "execution_count": 79,
     "metadata": {},
     "output_type": "execute_result"
    }
   ],
   "source": [
    "from sklearn.model_selection import cross_val_score\n",
    "from sklearn.tree import DecisionTreeClassifier\n",
    "from sklearn.metrics import  accuracy_score\n",
    "\n",
    "# clf = DecisionTreeClassifier(random_state=0)\n",
    "# clf.fit(X, y)\n",
    "# # cross_val_score(clf, X, y, cv=10)\n",
    "# y_pred_DT = clf.predict(X_test)\n",
    "# clf.score(X_test, y_test)\n",
    "\n",
    "# print(  accuracy_score(y_true=y_test, y_pred=y_pred))\n",
    "mins = {}\n",
    "data = {}\n",
    "lowest_cross_validation_set_DT = {}\n",
    "\n",
    "N = [2, 4, 6, 8, 10, 12, 15, 20, 25, 30]\n",
    "for item in N:\n",
    "    data[item] = pd.DataFrame()\n",
    "    data[item] = pd.read_csv('pp5i_train.top{}.gr.csv'.format(item))\n",
    "    data[item].drop(labels=['Unnamed: 0'], axis=1, inplace=True)\n",
    "    X, y = data[item].iloc[:, :data[item].shape[1]-1], data[item][['class']]\n",
    "    X.to_numpy()\n",
    "    y = y.iloc[:, -1]\n",
    "    y.to_numpy()\n",
    "    \n",
    "    # X_train, X_test, y_train, y_test = train_test_split(X, y, test_size=0.25, random_state=0)\n",
    "\n",
    "    clf = DecisionTreeClassifier(random_state=0)\n",
    "    \n",
    "    scaler = preprocessing.StandardScaler().fit(X)\n",
    "    X_scaled = scaler.transform(X)\n",
    "    \n",
    "    \n",
    "    crossval_score = cross_val_score(clf, X_scaled, y.values.ravel(), cv=3)\n",
    "    mins[item] = np.min(crossval_score)\n",
    "    print(\"cross val for {}: {}\".format(item, crossval_score))\n",
    "    # print(\"min: {:.4f}\".format(mins[item]))\n",
    "for idx, val in mins.items():\n",
    "    print(idx, val)\n",
    "    if val == min(mins.values()):\n",
    "        print(idx)\n",
    "        lowest_cross_validation_set_DT[idx] = val\n",
    "        break\n",
    "\n",
    "lowest_cross_validation_set_DT\n"
   ]
  },
  {
   "cell_type": "markdown",
   "metadata": {},
   "source": [
    "## KNN"
   ]
  },
  {
   "cell_type": "code",
   "execution_count": 80,
   "metadata": {},
   "outputs": [
    {
     "name": "stdout",
     "output_type": "stream",
     "text": [
      "2 0.6956521739130435\n",
      "4 0.5217391304347826\n",
      "6 0.6521739130434783\n",
      "8 0.4782608695652174\n",
      "10 0.5217391304347826\n",
      "12 0.43478260869565216\n",
      "12\n",
      "2 0.6956521739130435\n",
      "4 0.5217391304347826\n",
      "6 0.6521739130434783\n",
      "8 0.4782608695652174\n",
      "10 0.5217391304347826\n",
      "12 0.43478260869565216\n",
      "12\n",
      "2 0.6956521739130435\n",
      "4 0.5217391304347826\n",
      "6 0.6521739130434783\n",
      "8 0.4782608695652174\n",
      "10 0.5217391304347826\n",
      "12 0.43478260869565216\n",
      "12\n"
     ]
    },
    {
     "data": {
      "text/plain": [
       "{2: (12, 0.43478260869565216),\n",
       " 3: (12, 0.43478260869565216),\n",
       " 4: (12, 0.43478260869565216)}"
      ]
     },
     "execution_count": 80,
     "metadata": {},
     "output_type": "execute_result"
    }
   ],
   "source": [
    "from sklearn.neighbors import KNeighborsClassifier\n",
    "from sklearn.model_selection import train_test_split\n",
    "from sklearn import metrics\n",
    "\n",
    "\n",
    "# X, y = train.iloc[:, :train.shape[1]-1], train[['class']]\n",
    "# X_train, X_test, y_train, y_test = train_test_split(X, y, test_size=0.25, random_state=0)\n",
    "# k = [2, 3, 4]\n",
    "# scores = {}\n",
    "# scores_list = []\n",
    "# for n_neighbords in k:\n",
    "#     knn = KNeighborsClassifier(n_neighbors=n_neighbords)\n",
    "#     knn.fit(X=X_train, y=y_train)\n",
    "#     y_pred = knn.predict(X_test)\n",
    "    \n",
    "#     scores[n_neighbords] = metrics.accuracy_score(y_true=y_test, y_pred=y_pred)\n",
    "#     scores_list.append(metrics.accuracy_score(y_true=y_test, y_pred=y_pred))\n",
    "    \n",
    "# # print(scores)\n",
    "\n",
    "# %matplotlib inline\n",
    "# import matplotlib.pyplot as plt\n",
    "\n",
    "# plt.plot(k, scores_list)\n",
    "# plt.xlabel(\"Value of K for KNN\")\n",
    "# plt.ylabel(\"Testing Accuracy\")\n",
    "\n",
    "k = [2, 3, 4]\n",
    "scores_list = []\n",
    "\n",
    "mins = {}\n",
    "data = {}\n",
    "lowest_cross_validation_set_KNN = {}\n",
    "N = [2, 4, 6, 8, 10, 12, 15, 20, 25, 30]\n",
    "\n",
    "for n_neighbords in k:\n",
    "    \n",
    "    for item in N:\n",
    "        data[item] = pd.DataFrame()\n",
    "        data[item] = pd.read_csv('pp5i_train.top{}.gr.csv'.format(item))\n",
    "        data[item].drop(labels=['Unnamed: 0'], axis=1, inplace=True)\n",
    "        X, y = data[item].iloc[:, :data[item].shape[1]-1], data[item][['class']]\n",
    "        X.to_numpy()\n",
    "        y = y.iloc[:, -1]\n",
    "        y.to_numpy()\n",
    "        \n",
    "        knn = KNeighborsClassifier(n_neighbors=n_neighbords)\n",
    "        scaler = preprocessing.StandardScaler().fit(X)\n",
    "        X_scaled = scaler.transform(X)\n",
    "    \n",
    "    \n",
    "        crossval_score = cross_val_score(clf, X_scaled, y.values.ravel(), cv=3)\n",
    "        mins[item] = np.min(crossval_score)\n",
    "    for idx, val in mins.items():\n",
    "        print(idx, val)\n",
    "        if val == min(mins.values()):\n",
    "            print(idx)\n",
    "            lowest_cross_validation_set_KNN[n_neighbords] = (idx, val)\n",
    "            break\n",
    "        \n",
    "lowest_cross_validation_set_KNN"
   ]
  },
  {
   "cell_type": "markdown",
   "metadata": {},
   "source": [
    "## Logistic regression\n"
   ]
  },
  {
   "cell_type": "code",
   "execution_count": 73,
   "metadata": {},
   "outputs": [
    {
     "name": "stdout",
     "output_type": "stream",
     "text": [
      "cross val for 2: [1.         0.95652174 1.        ]\n",
      "min: 0.9565\n",
      "cross val for 4: [1.         0.95652174 1.        ]\n",
      "min: 0.9565\n",
      "cross val for 6: [1.         0.95652174 1.        ]\n",
      "min: 0.9565\n",
      "cross val for 8: [1.         0.95652174 1.        ]\n",
      "min: 0.9565\n",
      "cross val for 10: [1.         0.95652174 1.        ]\n",
      "min: 0.9565\n",
      "cross val for 12: [1. 1. 1.]\n",
      "min: 1.0000\n",
      "cross val for 15: [1. 1. 1.]\n",
      "min: 1.0000\n",
      "cross val for 20: [1. 1. 1.]\n",
      "min: 1.0000\n",
      "cross val for 25: [1. 1. 1.]\n",
      "min: 1.0000\n",
      "cross val for 30: [1. 1. 1.]\n",
      "min: 1.0000\n",
      "2 0.9565217391304348\n",
      "2\n"
     ]
    },
    {
     "data": {
      "text/plain": [
       "{2: 0.9565217391304348}"
      ]
     },
     "execution_count": 73,
     "metadata": {},
     "output_type": "execute_result"
    }
   ],
   "source": [
    "from sklearn.linear_model import LogisticRegression\n",
    "from sklearn import preprocessing\n",
    "\n",
    "\n",
    "# logisticRegr = LogisticRegression()\n",
    "# logisticRegr.fit(X_train, y_train)\n",
    "\n",
    "# y_pred = logisticRegr.predict(X_test)\n",
    "\n",
    "# score_metrics = metrics.accuracy_score(y_true=y_test, y_pred=y_pred)\n",
    "# print(score_metrics)\n",
    "\n",
    "mins = {}\n",
    "data = {}\n",
    "lowest_cross_validation_set_LR = {}\n",
    "\n",
    "N = [2, 4, 6, 8, 10, 12, 15, 20, 25, 30]\n",
    "for item in N:\n",
    "    data[item] = pd.DataFrame()\n",
    "    data[item] = pd.read_csv('pp5i_train.top{}.gr.csv'.format(item))\n",
    "    data[item].drop(labels=['Unnamed: 0'], axis=1, inplace=True)\n",
    "    X, y = data[item].iloc[:, :data[item].shape[1]-1], data[item][['class']]\n",
    "    X.to_numpy()\n",
    "    y = y.iloc[:, -1]\n",
    "    y.to_numpy()\n",
    "\n",
    "    logisticRegr = LogisticRegression()\n",
    "    \n",
    "    scaler = preprocessing.StandardScaler().fit(X)\n",
    "    X_scaled = scaler.transform(X)\n",
    "\n",
    "    \n",
    "    crossval_score = cross_val_score(logisticRegr, X_scaled, y.values.ravel(), cv=3)\n",
    "    mins[item] = np.min(crossval_score)\n",
    "    print(\"cross val for {}: {}\".format(item, crossval_score))\n",
    "    print(\"min: {:.4f}\".format(mins[item]))\n",
    "for idx, val in mins.items():\n",
    "    print(idx, val)\n",
    "    if val == min(mins.values()):\n",
    "        print(idx)\n",
    "        lowest_cross_validation_set_LR[idx] = val\n",
    "        break\n",
    "\n",
    "\n",
    "lowest_cross_validation_set_LR"
   ]
  },
  {
   "cell_type": "markdown",
   "metadata": {},
   "source": [
    "## Multi-layer Perceptron"
   ]
  },
  {
   "cell_type": "code",
   "execution_count": 81,
   "metadata": {},
   "outputs": [
    {
     "name": "stdout",
     "output_type": "stream",
     "text": [
      "cross val for 2: [0.60869565 0.69565217 0.73913043]\n",
      "min: 0.6087\n",
      "cross val for 4: [0.56521739 0.95652174 0.65217391]\n",
      "min: 0.5652\n",
      "cross val for 6: [0.30434783 0.86956522 0.7826087 ]\n",
      "min: 0.3043\n"
     ]
    },
    {
     "name": "stderr",
     "output_type": "stream",
     "text": [
      "e:\\python\\venv\\lib\\site-packages\\sklearn\\neural_network\\_multilayer_perceptron.py:549: ConvergenceWarning: lbfgs failed to converge (status=1):\n",
      "STOP: TOTAL NO. of ITERATIONS REACHED LIMIT.\n",
      "\n",
      "Increase the number of iterations (max_iter) or scale the data as shown in:\n",
      "    https://scikit-learn.org/stable/modules/preprocessing.html\n",
      "  self.n_iter_ = _check_optimize_result(\"lbfgs\", opt_res, self.max_iter)\n"
     ]
    },
    {
     "name": "stdout",
     "output_type": "stream",
     "text": [
      "cross val for 8: [0.60869565 0.91304348 0.73913043]\n",
      "min: 0.6087\n",
      "cross val for 10: [0.82608696 0.73913043 0.86956522]\n",
      "min: 0.7391\n",
      "cross val for 12: [0.91304348 0.65217391 0.82608696]\n",
      "min: 0.6522\n",
      "cross val for 15: [0.73913043 0.86956522 0.82608696]\n",
      "min: 0.7391\n",
      "cross val for 20: [0.47826087 0.7826087  0.7826087 ]\n",
      "min: 0.4783\n"
     ]
    },
    {
     "name": "stderr",
     "output_type": "stream",
     "text": [
      "e:\\python\\venv\\lib\\site-packages\\sklearn\\neural_network\\_multilayer_perceptron.py:549: ConvergenceWarning: lbfgs failed to converge (status=2):\n",
      "ABNORMAL_TERMINATION_IN_LNSRCH.\n",
      "\n",
      "Increase the number of iterations (max_iter) or scale the data as shown in:\n",
      "    https://scikit-learn.org/stable/modules/preprocessing.html\n",
      "  self.n_iter_ = _check_optimize_result(\"lbfgs\", opt_res, self.max_iter)\n"
     ]
    },
    {
     "name": "stdout",
     "output_type": "stream",
     "text": [
      "cross val for 25: [0.60869565 0.7826087  0.73913043]\n",
      "min: 0.6087\n",
      "cross val for 30: [0.73913043 0.73913043 0.73913043]\n",
      "min: 0.7391\n",
      "2 0.6086956521739131\n",
      "4 0.5652173913043478\n",
      "6 0.30434782608695654\n",
      "6\n"
     ]
    },
    {
     "data": {
      "text/plain": [
       "{6: 0.30434782608695654}"
      ]
     },
     "execution_count": 81,
     "metadata": {},
     "output_type": "execute_result"
    }
   ],
   "source": [
    "from sklearn.neural_network import MLPClassifier\n",
    "from sklearn import preprocessing\n",
    "\n",
    "\n",
    "# clf = MLPClassifier(solver='lbfgs', alpha=1e-5,\n",
    "#                     hidden_layer_sizes=(5, 2), random_state=1)\n",
    "\n",
    "# clf.fit(X_train, y_train)\n",
    "\n",
    "# y_pred = clf.predict(X_test )\n",
    "# score_metrics = metrics.accuracy_score(y_true=y_test, y_pred=y_pred)\n",
    "# print(score_metrics)\n",
    "\n",
    "\n",
    "mins = {}\n",
    "data = {}\n",
    "lowest_cross_validation_set_NN = {}\n",
    "\n",
    "N = [2, 4, 6, 8, 10, 12, 15, 20, 25, 30]\n",
    "for item in N:\n",
    "    data[item] = pd.DataFrame()\n",
    "    data[item] = pd.read_csv('pp5i_train.top{}.gr.csv'.format(item))\n",
    "    data[item].drop(labels=['Unnamed: 0'], axis=1, inplace=True)\n",
    "    X, y = data[item].iloc[:, :data[item].shape[1]-1], data[item][['class']]\n",
    "    X.to_numpy()\n",
    "    y = y.iloc[:, -1]\n",
    "    y.to_numpy()\n",
    "    \n",
    "    # X_train, X_test, y_train, y_test = train_test_split(X, y, test_size=0.25, random_state=0)\n",
    "\n",
    "    clf = MLPClassifier(solver='lbfgs', alpha=1e-5,\n",
    "                    hidden_layer_sizes=(5, 2), random_state=1)\n",
    "\n",
    "    scaler = preprocessing.StandardScaler().fit(X)\n",
    "    X_scaled = scaler.transform(X)\n",
    "    \n",
    "    crossval_score = cross_val_score(clf, X_scaled, y.values.ravel(), cv=3)\n",
    "    mins[item] = np.min(crossval_score)\n",
    "    print(\"cross val for {}: {}\".format(item, crossval_score))\n",
    "    print(\"min: {:.4f}\".format(mins[item]))\n",
    "for idx, val in mins.items():\n",
    "    print(idx, val)\n",
    "    if val == min(mins.values()):\n",
    "        print(idx)\n",
    "        lowest_cross_validation_set_NN[idx] = val\n",
    "        break\n",
    "\n",
    "\n",
    "lowest_cross_validation_set_NN"
   ]
  },
  {
   "cell_type": "code",
   "execution_count": 82,
   "metadata": {},
   "outputs": [
    {
     "name": "stdout",
     "output_type": "stream",
     "text": [
      "knn:{2: (12, 0.43478260869565216), 3: (12, 0.43478260869565216), 4: (12, 0.43478260869565216)}\n",
      "Decision Tree:{12: 0.43478260869565216}\n",
      "Naive Bayes:{20: 0.6956521739130435}\n",
      "Logistic Regresion:{2: 0.9565217391304348}\n",
      "Neural Network:{6: 0.30434782608695654}\n"
     ]
    }
   ],
   "source": [
    "print(\"knn:{}\\nDecision Tree:{}\\nNaive Bayes:{}\\nLogistic Regresion:{}\\nNeural Network:{}\".format(lowest_cross_validation_set_KNN,\n",
    "                                                                                                  lowest_cross_validation_set_DT,\n",
    "                                                                                                  lowest_cross_validation_set_NB,\n",
    "                                                                                                  lowest_cross_validation_set_LR,\n",
    "                                                                                                  lowest_cross_validation_set_NN)\n",
    "      )\n",
    "\n",
    "\n",
    "\n",
    "\n"
   ]
  },
  {
   "cell_type": "code",
   "execution_count": null,
   "metadata": {},
   "outputs": [],
   "source": []
  }
 ],
 "metadata": {
  "interpreter": {
   "hash": "a223a6ae55912484a01d987806d384ffca17e043bfd2d4dcd0949f7d6159cce0"
  },
  "kernelspec": {
   "display_name": "Python 3.10.1 64-bit (system)",
   "language": "python",
   "name": "python3"
  },
  "language_info": {
   "codemirror_mode": {
    "name": "ipython",
    "version": 3
   },
   "file_extension": ".py",
   "mimetype": "text/x-python",
   "name": "python",
   "nbconvert_exporter": "python",
   "pygments_lexer": "ipython3",
   "version": "3.10.1"
  },
  "orig_nbformat": 4
 },
 "nbformat": 4,
 "nbformat_minor": 2
}
